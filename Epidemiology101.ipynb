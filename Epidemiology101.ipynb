{
 "cells": [
  {
   "cell_type": "markdown",
   "metadata": {},
   "source": [
    "<div style=\"width: 100%; overflow: hidden;\">\n",
    "    <div style=\"width: 150px; float: left;\"> <img src=\"data/D4Sci_logo_ball.png\" alt=\"Data For Science, Inc\" align=\"left\" border=\"0\"> </div>\n",
    "    <div style=\"float: left; margin-left: 10px;\"> <h1>Epidemics 101</h1>\n",
    "<h1>Or why your exponential fits of CoVID numbers are wrong</h1>\n",
    "        <p>Bruno Gonçalves<br/>\n",
    "        <a href=\"http://www.data4sci.com/\">www.data4sci.com</a><br/>\n",
    "            @bgoncalves, @data4sci</p></div>\n",
    "</div>"
   ]
  },
  {
   "cell_type": "code",
   "execution_count": 1,
   "metadata": {},
   "outputs": [],
   "source": [
    "from collections import Counter\n",
    "from pprint import pprint\n",
    "\n",
    "import pandas as pd\n",
    "import numpy as np\n",
    "import matplotlib.pyplot as plt \n",
    "from mpl_toolkits.axes_grid1.inset_locator import inset_axes\n",
    "\n",
    "from EpiModel import *\n",
    "\n",
    "import watermark\n",
    "\n",
    "%load_ext watermark\n",
    "\n",
    "%matplotlib inline"
   ]
  },
  {
   "cell_type": "markdown",
   "metadata": {},
   "source": [
    "We start by print out the versions of the libraries we're using for future reference"
   ]
  },
  {
   "cell_type": "code",
   "execution_count": 9,
   "metadata": {},
   "outputs": [
    {
     "name": "stdout",
     "output_type": "stream",
     "text": [
      "watermark 2.0.2\n",
      "networkx  2.4\n",
      "numpy     1.18.1\n",
      "pandas    1.0.3\n",
      "scipy     1.4.1\n",
      "Mon Mar 30 2020 \n",
      "\n",
      "CPython 3.7.7\n",
      "IPython 7.13.0\n",
      "\n",
      "compiler   : MSC v.1916 64 bit (AMD64)\n",
      "system     : Windows\n",
      "release    : 10\n",
      "machine    : AMD64\n",
      "processor  : Intel64 Family 6 Model 158 Stepping 10, GenuineIntel\n",
      "CPU cores  : 12\n",
      "interpreter: 64bit\n"
     ]
    }
   ],
   "source": [
    "# %watermark -n -v -m -g -iv\n",
    "%watermark -n -v -m -iv\n"
   ]
  },
  {
   "cell_type": "markdown",
   "metadata": {},
   "source": [
    "Load default figure style"
   ]
  },
  {
   "cell_type": "code",
   "execution_count": null,
   "metadata": {},
   "outputs": [],
   "source": [
    "plt.style.use('./d4sci.mplstyle')\n",
    "colors = plt.rcParams['axes.prop_cycle'].by_key()['color']"
   ]
  },
  {
   "cell_type": "markdown",
   "metadata": {},
   "source": [
    "## SI Model"
   ]
  },
  {
   "cell_type": "markdown",
   "metadata": {},
   "source": [
    "The first model we will look at is called the SI model and it only consists of two compartments (susceptible and infectious) and one transion between them"
   ]
  },
  {
   "cell_type": "code",
   "execution_count": null,
   "metadata": {},
   "outputs": [],
   "source": [
    "beta = 0.2\n",
    "SI = EpiModel()\n",
    "SI.add_interaction('S', 'I', 'I', beta)\n",
    "\n",
    "print(SI)"
   ]
  },
  {
   "cell_type": "markdown",
   "metadata": {},
   "source": [
    "In other words, when a susceptiblem person encounters an infectious person, s/he aquires the infection with probability 0.2. We can integrate it easily. If in our initial population of 100,000 individuals we have 10 who are infected at time zero"
   ]
  },
  {
   "cell_type": "code",
   "execution_count": null,
   "metadata": {},
   "outputs": [],
   "source": [
    "N = 100000\n",
    "I0 = 10\n",
    "\n",
    "SI.integrate(100, S=N-I0, I=I0)"
   ]
  },
  {
   "cell_type": "markdown",
   "metadata": {},
   "source": [
    "And to plot it:"
   ]
  },
  {
   "cell_type": "code",
   "execution_count": null,
   "metadata": {},
   "outputs": [],
   "source": [
    "ax = (SI.I/N).plot(label='Infectious', color=colors[1])\n",
    "ax.set_xlabel('Time')\n",
    "ax.set_ylabel('Population')\n",
    "#ax.set_title('SI Model')\n",
    "ax.legend()"
   ]
  },
  {
   "cell_type": "markdown",
   "metadata": {},
   "source": [
    "This isn't very interesting: after a few steps everyone is infected!"
   ]
  },
  {
   "cell_type": "markdown",
   "metadata": {},
   "source": [
    "## SIR Model"
   ]
  },
  {
   "cell_type": "markdown",
   "metadata": {},
   "source": [
    "A more interesting and realistic model is the SIR model. It allows people to recover from the infection after some time, so now we have 3 compartments and 2 transitions"
   ]
  },
  {
   "cell_type": "code",
   "execution_count": null,
   "metadata": {},
   "outputs": [],
   "source": [
    "beta = 0.2\n",
    "mu = 0.1\n",
    "\n",
    "SIR = EpiModel()\n",
    "SIR.add_interaction('S', 'I', 'I', beta)\n",
    "SIR.add_spontaneous('I', 'R', mu)"
   ]
  },
  {
   "cell_type": "code",
   "execution_count": null,
   "metadata": {},
   "outputs": [],
   "source": [
    "print(SIR)"
   ]
  },
  {
   "cell_type": "markdown",
   "metadata": {},
   "source": [
    "And the dynamics is more interesting as well:"
   ]
  },
  {
   "cell_type": "code",
   "execution_count": null,
   "metadata": {},
   "outputs": [],
   "source": [
    "SIR.integrate(365, S=N-I0, I=I0, R=0)"
   ]
  },
  {
   "cell_type": "markdown",
   "metadata": {},
   "source": [
    "And a quick visualization"
   ]
  },
  {
   "cell_type": "code",
   "execution_count": null,
   "metadata": {},
   "outputs": [],
   "source": [
    "ax = SIR.plot('SIR Model', normed=True)\n",
    "ax.legend(['Susceptible', 'Infectious', 'Recovered'])"
   ]
  },
  {
   "cell_type": "markdown",
   "metadata": {},
   "source": [
    "The purple line is the number of currently infectious cases as a function of time. As we can see, not all of the population is infectious at the same time, and, in fact, only about $80\\%$ of the population is ever infected, as shown by the green curve representing the fraction of recovered."
   ]
  },
  {
   "cell_type": "markdown",
   "metadata": {},
   "source": [
    "The typical bell curve you're likely to see (as asked to flatten) is simply the number of infectious individuals as a function of time:"
   ]
  },
  {
   "cell_type": "code",
   "execution_count": null,
   "metadata": {},
   "outputs": [],
   "source": [
    "ax=(SIR.I/N).plot(label='Infectious', color=colors[1])\n",
    "ax.set_xlabel('time')\n",
    "ax.set_ylabel('Population')\n",
    "ax.legend()"
   ]
  },
  {
   "cell_type": "markdown",
   "metadata": {},
   "source": [
    "## Confirmed cases"
   ]
  },
  {
   "cell_type": "markdown",
   "metadata": {},
   "source": [
    "If you've been paying attention to the news, the numbers of confirmed cases you've been seeing about CoVID19 correspond to, some fraction, $\\phi$ of the total number of people that got infected up to that point. We can calculate that easily by simply seeing how many \"healthy\" people we lost as a function of time:\n",
    "\n",
    "$$ Confirmed = \\phi\\left(N-S\\right)$$"
   ]
  },
  {
   "cell_type": "markdown",
   "metadata": {},
   "source": [
    "If, say, $\\phi=10\\%$ or $\\phi=20\\%$ of everyone who gets infected takes the test, then:"
   ]
  },
  {
   "cell_type": "code",
   "execution_count": null,
   "metadata": {},
   "outputs": [],
   "source": [
    "phi = 0.1\n",
    "ax = ((phi*(N-SIR.S))/N).plot(color=colors[3], linestyle='--', label=r'$10\\%$ testing')\n",
    "\n",
    "phi = 0.2\n",
    "((phi*(N-SIR.S))/N).plot(ax=ax, color=colors[3], linestyle=':', label=r'$20\\%$ testing')\n",
    "\n",
    "\n",
    "ax.set_xlabel('Time')\n",
    "ax.set_ylabel('Confirmed Cases')\n",
    "ax.legend()"
   ]
  },
  {
   "cell_type": "markdown",
   "metadata": {},
   "source": [
    "Naturaly, the higher the testing percentage, the higher the number of confirmed cases. Please note that here we are ignoring the number of healthy individuals that take the test and it comes back negative as we are only interested in the number of confirmed cases."
   ]
  },
  {
   "cell_type": "markdown",
   "metadata": {},
   "source": [
    "And the number of recovered cases follows a similar path, with a few days lag. Here we apply the same factor of $\\phi$ to the number of recovered, since in principle, those would be the only ones we could observe recovering."
   ]
  },
  {
   "cell_type": "code",
   "execution_count": null,
   "metadata": {},
   "outputs": [],
   "source": [
    "phi = 0.1\n",
    "ax = ((phi*(N-SIR.S))/N).plot(label='Confirmed', color=colors[3])\n",
    "((phi*SIR.R)/N).plot(ax=ax, label='Recovered', color=colors[2])\n",
    "ax.set_xlabel('Time')\n",
    "ax.set_ylabel('Cases')\n",
    "ax.legend()"
   ]
  },
  {
   "cell_type": "markdown",
   "metadata": {},
   "source": [
    "For the sake of clarity I'm making the simplifying assumption that test are instantanous and happen as soon as the infection happens. This is __slightly__ unrealistic :) \n",
    "\n",
    "And indeed the numbers do start off growing exponentially as can be easily seen by plotting them on a log-linear scale."
   ]
  },
  {
   "cell_type": "code",
   "execution_count": null,
   "metadata": {},
   "outputs": [],
   "source": [
    "phi = 0.1\n",
    "ax = (phi*(N-SIR.S[:50])).plot(color=colors[3], label='Confirmed')\n",
    "t = np.arange(0, 50, 1)\n",
    "y = 2*np.exp((beta-mu)*t)\n",
    "ax.plot(t, y, lw=1, linestyle='--', label='Exponential Trend')\n",
    "\n",
    "ax.set_yscale('log')\n",
    "ax.set_xlabel('Time')\n",
    "ax.set_ylabel('Cases')\n",
    "ax.set_xlim(0, 50)\n",
    "ax.set_ylim(1, 500)\n",
    "ax.legend()"
   ]
  },
  {
   "cell_type": "markdown",
   "metadata": {},
   "source": [
    "And we easily calculate the doubling time"
   ]
  },
  {
   "cell_type": "code",
   "execution_count": null,
   "metadata": {},
   "outputs": [],
   "source": [
    "doubling_time = np.log(2)/(beta-mu)\n",
    "print(\"Doubling time: %u days\" % np.round(doubling_time))"
   ]
  },
  {
   "cell_type": "markdown",
   "metadata": {},
   "source": [
    "## Non-uniform testing"
   ]
  },
  {
   "cell_type": "markdown",
   "metadata": {},
   "source": [
    "Now let's look at a more realistic case. What if, instead of testing exactly $\\phi=10\\%$ of the cases, starting imediatly, it takes us a while to ramp up testing? Say, we start at 0 for the first week and smootly ramp up over the course of three weeks to a steady state rate of $\\phi$?"
   ]
  },
  {
   "cell_type": "code",
   "execution_count": null,
   "metadata": {},
   "outputs": [],
   "source": [
    "phi_t = np.ones(364)*0.1 # The steady state rate\n",
    "phi_t[:7] = 0 # 0 for the first 7 days\n",
    "phi_t[7:28] = np.linspace(0, 0.1, 21) # ramp up over 3 weeks"
   ]
  },
  {
   "cell_type": "markdown",
   "metadata": {},
   "source": [
    "Now our curves looks a bit more interesting."
   ]
  },
  {
   "cell_type": "code",
   "execution_count": null,
   "metadata": {},
   "outputs": [],
   "source": [
    "ax = SIR.I.iloc[:49].plot(label='Real cases', color=colors[1])\n",
    "(phi*(N-SIR.S)).iloc[:49].plot(ax=ax, label='Uniform testing', color=colors[3], linestyle='--')\n",
    "(phi_t*(N-SIR.S)).iloc[:49].plot(ax=ax, label='Dynamic testing rate', color=colors[3])\n",
    "\n",
    "t = np.arange(0, 49, 1)\n",
    "y = 2*np.exp((beta-mu)*t)\n",
    "ax.plot(t, y, lw=2, linestyle='--', label='Exponential Trend')\n",
    "ax.set_ylim(1, 1000)\n",
    "ax.legend()\n",
    "\n",
    "ax.set_xlabel('Time')\n",
    "ax.set_ylabel('Confirmed Cases')\n",
    "ax.set_yscale('log')"
   ]
  },
  {
   "cell_type": "markdown",
   "metadata": {},
   "source": [
    "Two things should be noted here:\n",
    "\n",
    "- By the time we detect the first case, on day 11, the real number of cases is already several dozen\n",
    "- The increase in testing rate gets muddled together with the increase in the number of cases to look like a much faster increase\n",
    "\n",
    "Naturally, the opposite is also true, if we decrease the number of tests, we see an artificial slowing down of the number of cases"
   ]
  },
  {
   "cell_type": "code",
   "execution_count": null,
   "metadata": {},
   "outputs": [],
   "source": [
    "phi_t[35:42]=np.linspace(0.1, 0.05, 7) # Gradually reduce the number of tests in the 5th week\n",
    "phi_t[42:] *= 0.5 # stay at 0.05 for the rest of the time\n",
    "\n",
    "ax = SIR.I.iloc[:49].plot(label='Real cases', color=colors[1])\n",
    "(phi*(N-SIR.S)).iloc[:49].plot(ax=ax, label='Uniform testing', color=colors[3], linestyle='--')\n",
    "(phi_t*(N-SIR.S)).iloc[:49].plot(ax=ax, label='Dynamic testing rate', color=colors[3])\n",
    "\n",
    "t = np.arange(0, 49, 1)\n",
    "y = 2*np.exp((beta-mu)*t)\n",
    "ax.plot(t, y, lw=1, linestyle='--')\n",
    "ax.set_ylim(1, 1000)\n",
    "ax.legend()\n",
    "\n",
    "ax.set_xlabel('Time')\n",
    "ax.set_ylabel('Confirmed Cases')\n",
    "ax.set_yscale('log')"
   ]
  },
  {
   "cell_type": "markdown",
   "metadata": {},
   "source": [
    "In practice, the testing rate is not fixed and changes over time due to supply availability, policy changes, etc. As a result, trying to fit exponential curves to the numbers you hear in the news is at best, misleading."
   ]
  },
  {
   "cell_type": "markdown",
   "metadata": {},
   "source": [
    "## Dynamical lags"
   ]
  },
  {
   "cell_type": "markdown",
   "metadata": {},
   "source": [
    "Another issue that can easily complicate things is the fact that epidemic models work a bit like conveyer belts. Susceptible get fed on one end, become infectious and eventually Recovered come out the other end. "
   ]
  },
  {
   "cell_type": "markdown",
   "metadata": {},
   "source": [
    "We calculate the number of __new infections__ as a function of time by looking at the change in the number of susceptibles and compare with the total number of currently infectious people. As the two curves have a very different range of values, we we normalize each curve by dividing it by its respective maximum value."
   ]
  },
  {
   "cell_type": "code",
   "execution_count": null,
   "metadata": {},
   "outputs": [],
   "source": [
    "new_infections = (-SIR.S).diff(1)\n",
    "\n",
    "new_infections_max = new_infections.argmax()\n",
    "infectious_max = SIR.I.argmax()\n",
    "\n",
    "ax=(new_infections/new_infections.max()).plot(label='New Infections', color=colors[4])\n",
    "(SIR.I/SIR.I.max()).plot(ax=ax, label='Currently Infectious', color=colors[1])\n",
    "ax.vlines(x=[new_infections_max, infectious_max], ymin=0, ymax=1, lw=1, linestyle='--')\n",
    "ax.set_ylabel('Fraction of maximum')\n",
    "ax.set_xlabel('Time')\n",
    "ax.legend()"
   ]
  },
  {
   "cell_type": "markdown",
   "metadata": {},
   "source": [
    "As we can see, there's a clear lag between the point as the rate of new infectious starts decreasing and the number of currently infectious individuals starts decreasing as well."
   ]
  },
  {
   "cell_type": "markdown",
   "metadata": {},
   "source": [
    "## Lockdown"
   ]
  },
  {
   "cell_type": "markdown",
   "metadata": {},
   "source": [
    "A consequence of this is that even if you completely cut the supply of Susceptibles who become Infected it takes some time for the effects to be seen. We illustrate this more clearly by implementing a simple lockdown strategy. Starting at time 75, we implement our lockdown strategy and completly stop new infections from occurring. We do this by replacing the epidemic model with one where people are only allowed to recover."
   ]
  },
  {
   "cell_type": "markdown",
   "metadata": {},
   "source": [
    "We start with the original SIR model as before and integrating for the first 75 days"
   ]
  },
  {
   "cell_type": "code",
   "execution_count": null,
   "metadata": {},
   "outputs": [],
   "source": [
    "beta = 0.2\n",
    "mu = 0.1\n",
    "\n",
    "SIR2 = EpiModel()\n",
    "SIR2.add_interaction('S', 'I', 'I', beta)\n",
    "SIR2.add_spontaneous('I', 'R', mu)\n",
    "\n",
    "SIR2.integrate(75, S=N-I0, I=I0, R=0)"
   ]
  },
  {
   "cell_type": "markdown",
   "metadata": {},
   "source": [
    "Now we create new model with just one transition and setting the initial population to be the population at the end of the previous process"
   ]
  },
  {
   "cell_type": "code",
   "execution_count": null,
   "metadata": {},
   "outputs": [],
   "source": [
    "Quarantine = EpiModel('SIR')\n",
    "Quarantine.add_spontaneous('I', 'R', mu)\n",
    "\n",
    "population = SIR2.values_.iloc[-1]\n",
    "S0 = population.S\n",
    "I0 = population.I\n",
    "R0 = population.R\n",
    "\n",
    "Quarantine.integrate(365-74, S=S0, I=I0, R=R0)"
   ]
  },
  {
   "cell_type": "code",
   "execution_count": null,
   "metadata": {},
   "outputs": [],
   "source": [
    "Quarantine"
   ]
  },
  {
   "cell_type": "markdown",
   "metadata": {},
   "source": [
    "Now we compbine the results from the two models"
   ]
  },
  {
   "cell_type": "code",
   "execution_count": null,
   "metadata": {},
   "outputs": [],
   "source": [
    "values = pd.concat([SIR2.values_, Quarantine.values_], axis=0, ignore_index=True)"
   ]
  },
  {
   "cell_type": "code",
   "execution_count": null,
   "metadata": {},
   "outputs": [],
   "source": [
    "ax = (values/N).plot()\n",
    "ax.vlines(x=74, ymax=1, ymin=0, lw=1, linestyle='--')\n",
    "ax.set_ylabel('Population')\n",
    "ax.set_xlabel('Time')\n",
    "ax.legend(['Susceptible', 'Infectious', 'Recovered'])"
   ]
  },
  {
   "cell_type": "markdown",
   "metadata": {},
   "source": [
    "Even in this idealized scenario it still takes ~25 days before all the infectious individual recover and life can go back to normal."
   ]
  },
  {
   "cell_type": "markdown",
   "metadata": {},
   "source": [
    "If, instead, we have the more realistic scenario where instead of completely stopping the spread we reduce the the spreading $R_0$ to, say, 0.5 (the perfect scenario was equivalent to $R_0=0$, so that the epidemic becomes non viable, we have:"
   ]
  },
  {
   "cell_type": "code",
   "execution_count": null,
   "metadata": {},
   "outputs": [],
   "source": [
    "beta = 0.2/4 # Reduce R0 by 4.\n",
    "mu = 0.1\n",
    "\n",
    "Quarantine2 = EpiModel()\n",
    "Quarantine2.add_interaction('S', 'I', 'I', beta)\n",
    "Quarantine2.add_spontaneous('I', 'R', mu)\n",
    "\n",
    "Quarantine2.integrate(365-74, S=S0, I=I0, R=R0)\n",
    "\n",
    "values2 = pd.concat([SIR2.values_, Quarantine2.values_], axis=0, ignore_index=True)"
   ]
  },
  {
   "cell_type": "markdown",
   "metadata": {},
   "source": [
    "Now we can compare the two scenarios. Lighter dashed lines representing the perfect case described above"
   ]
  },
  {
   "cell_type": "code",
   "execution_count": null,
   "metadata": {},
   "outputs": [],
   "source": [
    "ax = (values2/N).plot()\n",
    "ax.vlines(x=74, ymax=1, ymin=0, lw=1, linestyle='--')\n",
    "(values.S/N).plot(ax=ax, lw=2, linestyle='-', c=colors[0])\n",
    "(values.I/N).plot(ax=ax, lw=2, linestyle='-', c=colors[1])\n",
    "(values.R/N).plot(ax=ax, lw=2, linestyle='-', c=colors[2])\n",
    "ax.set_ylabel('Population')\n",
    "ax.set_xlabel('Time')\n",
    "ax.legend(['Susceptible', 'Infectious', 'Recovered'])"
   ]
  },
  {
   "cell_type": "markdown",
   "metadata": {},
   "source": [
    "Naturally, this requries the social distancing procedure to continue for longer and at the end we'll have more people who have been infected. However, if we stop too early, we simply go back to business as usual"
   ]
  },
  {
   "cell_type": "code",
   "execution_count": null,
   "metadata": {},
   "outputs": [],
   "source": [
    "population = values2.iloc[100]\n",
    "S0 = population.S\n",
    "I0 = population.I\n",
    "R0 = population.R\n",
    "\n",
    "\n",
    "SIR2.integrate(365-99, S=S0, I=I0, R=R0)\n",
    "\n",
    "values3 = values2.iloc[:100].copy()\n",
    "values3 = pd.concat([values3, SIR2.values_], axis=0, ignore_index=True)"
   ]
  },
  {
   "cell_type": "markdown",
   "metadata": {},
   "source": [
    "For comparison we now use the original SIR model withouth any intervention. "
   ]
  },
  {
   "cell_type": "code",
   "execution_count": null,
   "metadata": {
    "scrolled": false
   },
   "outputs": [],
   "source": [
    "fig, ax = plt.subplots(1)\n",
    "\n",
    "lines = (values3/N).plot(ax=ax)\n",
    "ax.axvspan(xmin=74, xmax=100, alpha=0.3, color=colors[3])\n",
    "(SIR.S/N).plot(ax=ax, lw=2, linestyle='--', c=colors[0], legend=False)\n",
    "(SIR.I/N).plot(ax=ax, lw=2, linestyle='--', c=colors[1], legend=False)\n",
    "(SIR.R/N).plot(ax=ax, lw=2, linestyle='--', c=colors[2], legend=False)\n",
    "\n",
    "(values2.S/N).plot(ax=ax, lw=2, linestyle='-', c=colors[0])\n",
    "(values2.I/N).plot(ax=ax, lw=2, linestyle='-', c=colors[1])\n",
    "(values2.R/N).plot(ax=ax, lw=2, linestyle='-', c=colors[2])\n",
    "\n",
    "ax.set_ylabel('Population')\n",
    "ax.set_xlabel('Time')\n",
    "ax.legend(['Susceptible', 'Infectious', 'Recovered'])"
   ]
  },
  {
   "cell_type": "markdown",
   "metadata": {},
   "source": [
    "And zooming in on the number of Infectious"
   ]
  },
  {
   "cell_type": "code",
   "execution_count": null,
   "metadata": {},
   "outputs": [],
   "source": [
    "fig, ax = plt.subplots(1)\n",
    "\n",
    "lines = (values3.I/N).plot(ax=ax, c=colors[1])\n",
    "span = ax.axvspan(xmin=74, xmax=100, alpha=0.3, color=colors[3])\n",
    "(values2.I/N).plot(ax=ax, lw=2, linestyle='-', c=colors[1])\n",
    "(SIR.I/N).plot(ax=ax, lw=2, linestyle='--', c=colors[1])\n",
    "\n",
    "\n",
    "ax.set_ylabel('Population')\n",
    "ax.set_xlabel('Time')\n",
    "ax.legend(['Interrupted Quarantine', 'Continuous Quarantine', 'No Quarantine', ])"
   ]
  },
  {
   "cell_type": "markdown",
   "metadata": {},
   "source": [
    "As you can see, even a broken social distancing procedure is better than nothing. It buys time and reduces the number of overall infected people in the population."
   ]
  },
  {
   "cell_type": "markdown",
   "metadata": {},
   "source": [
    "## Multiple populations"
   ]
  },
  {
   "cell_type": "markdown",
   "metadata": {},
   "source": [
    "So far we have considered only a single population, but a usual, reality is much more complex. The fundamental assumption of compartmental models is that the population is well mixed: in effect, everyone is in contact with everyone. \n",
    "\n",
    "Naturally, this is not a very realistic assumption for anything larger than a small town. Let's see what happens if instead of a town we have several towns of the same size that get infected at different points in time."
   ]
  },
  {
   "cell_type": "markdown",
   "metadata": {},
   "source": [
    "As we already saw, the number of infectious individuals for a single population is, simply:"
   ]
  },
  {
   "cell_type": "code",
   "execution_count": null,
   "metadata": {},
   "outputs": [],
   "source": [
    "ax=(SIR.I/N).plot(label='Infectious', color=colors[1])\n",
    "ax.set_xlabel('time')\n",
    "ax.set_ylabel('Population')\n",
    "ax.legend()"
   ]
  },
  {
   "cell_type": "markdown",
   "metadata": {},
   "source": [
    "Countries, States, Regions and Cities aren't single homogenous population but rather a set of several tightly connected sub populations with the total numbers being the combination of the numbers in each area. If, after starting in 1 population, the infection spreads to a second and third ones after, say, 7 and 14 days, we have:"
   ]
  },
  {
   "cell_type": "code",
   "execution_count": null,
   "metadata": {},
   "outputs": [],
   "source": [
    "infections = (SIR.I).copy()\n",
    "\n",
    "fig, ax = plt.subplots(1)\n",
    "ax.plot(infections/N, color=colors[1], label='1 population', linestyle=':')\n",
    "ax.plot((infections+infections.shift(31).fillna(0))/(2*N), color=colors[1], label='2 populations', linestyle='--')\n",
    "ax.plot((infections+infections.shift(31).fillna(0)+infections.shift(61).fillna(0))/(3*N), color=colors[1], label='3 populations', linestyle='-')\n",
    "ax.set_xlabel('time')\n",
    "ax.set_ylabel('Infectious cases')\n",
    "ax.legend()"
   ]
  },
  {
   "cell_type": "markdown",
   "metadata": {},
   "source": [
    "Naturaly, the exact details of the connections each subpopulation will determine how impacted the shape of the curve will be,"
   ]
  },
  {
   "cell_type": "markdown",
   "metadata": {},
   "source": [
    "<div style=\"width: 100%; overflow: hidden;\">\n",
    "     <img src=\"data/D4Sci_logo_full.png\" alt=\"Data For Science, Inc\" align=\"center\" border=\"0\" width=300px> \n",
    "</div>"
   ]
  }
 ],
 "metadata": {
  "kernelspec": {
   "display_name": "Python 3",
   "language": "python",
   "name": "python3"
  },
  "language_info": {
   "codemirror_mode": {
    "name": "ipython",
    "version": 3
   },
   "file_extension": ".py",
   "mimetype": "text/x-python",
   "name": "python",
   "nbconvert_exporter": "python",
   "pygments_lexer": "ipython3",
   "version": "3.7.7"
  },
  "toc": {
   "base_numbering": 1,
   "nav_menu": {},
   "number_sections": true,
   "sideBar": true,
   "skip_h1_title": true,
   "title_cell": "Table of Contents",
   "title_sidebar": "Contents",
   "toc_cell": false,
   "toc_position": {},
   "toc_section_display": true,
   "toc_window_display": true
  },
  "varInspector": {
   "cols": {
    "lenName": 16,
    "lenType": 16,
    "lenVar": 40
   },
   "kernels_config": {
    "python": {
     "delete_cmd_postfix": "",
     "delete_cmd_prefix": "del ",
     "library": "var_list.py",
     "varRefreshCmd": "print(var_dic_list())"
    },
    "r": {
     "delete_cmd_postfix": ") ",
     "delete_cmd_prefix": "rm(",
     "library": "var_list.r",
     "varRefreshCmd": "cat(var_dic_list()) "
    }
   },
   "types_to_exclude": [
    "module",
    "function",
    "builtin_function_or_method",
    "instance",
    "_Feature"
   ],
   "window_display": false
  }
 },
 "nbformat": 4,
 "nbformat_minor": 2
}
